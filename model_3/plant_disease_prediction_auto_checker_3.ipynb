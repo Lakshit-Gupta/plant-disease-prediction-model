{
 "cells": [
  {
   "cell_type": "code",
   "execution_count": 3,
   "id": "4ae7c19b-4611-4819-a3e8-0729d04f864c",
   "metadata": {},
   "outputs": [
    {
     "name": "stdout",
     "output_type": "stream",
     "text": [
      "2.10.0\n"
     ]
    }
   ],
   "source": [
    "# Set seeds for reproducibility\n",
    "import random\n",
    "random.seed(69)\n",
    "\n",
    "import numpy as np\n",
    "np.random.seed(69)\n",
    "\n",
    "import tensorflow as tf\n",
    "tf.random.set_seed(69)\n",
    "print(tf.__version__)"
   ]
  },
  {
   "cell_type": "code",
   "execution_count": 9,
   "id": "742c6852-db22-4ef1-99d8-066fd5df51b3",
   "metadata": {},
   "outputs": [
    {
     "name": "stdout",
     "output_type": "stream",
     "text": [
      "Available GPUs: [PhysicalDevice(name='/physical_device:GPU:0', device_type='GPU')]\n"
     ]
    }
   ],
   "source": [
    "# Allow memory growth on the GPU\n",
    "import tensorflow as tf\n",
    "# Check if GPU is available\n",
    "gpu_available = tf.config.list_physical_devices('GPU')\n",
    "print(\"Available GPUs:\", gpu_available)\n",
    "gpus = tf.config.list_physical_devices('GPU')\n",
    "if gpus:\n",
    "    try:\n",
    "        for gpu in gpus:\n",
    "            tf.config.experimental.set_memory_growth(gpu, True)\n",
    "    except RuntimeError as e:\n",
    "        print(e)  # Memory growth must be set at program startup"
   ]
  },
  {
   "cell_type": "code",
   "execution_count": null,
   "id": "862edf28-9272-487e-834c-8e69a0555492",
   "metadata": {},
   "outputs": [
    {
     "ename": "OSError",
     "evalue": "No file or directory found at plant_disease_prediction_model_2.keras",
     "output_type": "error",
     "traceback": [
      "\u001b[1;31m---------------------------------------------------------------------------\u001b[0m",
      "\u001b[1;31mOSError\u001b[0m                                   Traceback (most recent call last)",
      "Cell \u001b[1;32mIn[1], line 36\u001b[0m\n\u001b[0;32m     33\u001b[0m     \u001b[38;5;28;01mreturn\u001b[39;00m predicted_class_name, confidence_scores\n\u001b[0;32m     35\u001b[0m \u001b[38;5;66;03m# Load the model and class indices\u001b[39;00m\n\u001b[1;32m---> 36\u001b[0m model \u001b[38;5;241m=\u001b[39m \u001b[43mload_model\u001b[49m\u001b[43m(\u001b[49m\u001b[38;5;124;43m'\u001b[39;49m\u001b[38;5;124;43mplant_disease_prediction_model_2.keras\u001b[39;49m\u001b[38;5;124;43m'\u001b[39;49m\u001b[43m)\u001b[49m\n\u001b[0;32m     37\u001b[0m \u001b[38;5;28;01mwith\u001b[39;00m \u001b[38;5;28mopen\u001b[39m(\u001b[38;5;124m'\u001b[39m\u001b[38;5;124mclass_indices.json\u001b[39m\u001b[38;5;124m'\u001b[39m) \u001b[38;5;28;01mas\u001b[39;00m f:\n\u001b[0;32m     38\u001b[0m     class_indices \u001b[38;5;241m=\u001b[39m json\u001b[38;5;241m.\u001b[39mload(f)\n",
      "File \u001b[1;32m~\\anaconda3\\envs\\tf\\lib\\site-packages\\keras\\utils\\traceback_utils.py:70\u001b[0m, in \u001b[0;36mfilter_traceback.<locals>.error_handler\u001b[1;34m(*args, **kwargs)\u001b[0m\n\u001b[0;32m     67\u001b[0m     filtered_tb \u001b[38;5;241m=\u001b[39m _process_traceback_frames(e\u001b[38;5;241m.\u001b[39m__traceback__)\n\u001b[0;32m     68\u001b[0m     \u001b[38;5;66;03m# To get the full stack trace, call:\u001b[39;00m\n\u001b[0;32m     69\u001b[0m     \u001b[38;5;66;03m# `tf.debugging.disable_traceback_filtering()`\u001b[39;00m\n\u001b[1;32m---> 70\u001b[0m     \u001b[38;5;28;01mraise\u001b[39;00m e\u001b[38;5;241m.\u001b[39mwith_traceback(filtered_tb) \u001b[38;5;28;01mfrom\u001b[39;00m \u001b[38;5;28;01mNone\u001b[39;00m\n\u001b[0;32m     71\u001b[0m \u001b[38;5;28;01mfinally\u001b[39;00m:\n\u001b[0;32m     72\u001b[0m     \u001b[38;5;28;01mdel\u001b[39;00m filtered_tb\n",
      "File \u001b[1;32m~\\anaconda3\\envs\\tf\\lib\\site-packages\\keras\\saving\\save.py:226\u001b[0m, in \u001b[0;36mload_model\u001b[1;34m(filepath, custom_objects, compile, options)\u001b[0m\n\u001b[0;32m    224\u001b[0m \u001b[38;5;28;01mif\u001b[39;00m \u001b[38;5;28misinstance\u001b[39m(filepath_str, \u001b[38;5;28mstr\u001b[39m):\n\u001b[0;32m    225\u001b[0m     \u001b[38;5;28;01mif\u001b[39;00m \u001b[38;5;129;01mnot\u001b[39;00m tf\u001b[38;5;241m.\u001b[39mio\u001b[38;5;241m.\u001b[39mgfile\u001b[38;5;241m.\u001b[39mexists(filepath_str):\n\u001b[1;32m--> 226\u001b[0m         \u001b[38;5;28;01mraise\u001b[39;00m \u001b[38;5;167;01mIOError\u001b[39;00m(\n\u001b[0;32m    227\u001b[0m             \u001b[38;5;124mf\u001b[39m\u001b[38;5;124m\"\u001b[39m\u001b[38;5;124mNo file or directory found at \u001b[39m\u001b[38;5;132;01m{\u001b[39;00mfilepath_str\u001b[38;5;132;01m}\u001b[39;00m\u001b[38;5;124m\"\u001b[39m\n\u001b[0;32m    228\u001b[0m         )\n\u001b[0;32m    230\u001b[0m     \u001b[38;5;28;01mif\u001b[39;00m tf\u001b[38;5;241m.\u001b[39mio\u001b[38;5;241m.\u001b[39mgfile\u001b[38;5;241m.\u001b[39misdir(filepath_str):\n\u001b[0;32m    231\u001b[0m         \u001b[38;5;28;01mreturn\u001b[39;00m saved_model_load\u001b[38;5;241m.\u001b[39mload(\n\u001b[0;32m    232\u001b[0m             filepath_str, \u001b[38;5;28mcompile\u001b[39m, options\n\u001b[0;32m    233\u001b[0m         )\n",
      "\u001b[1;31mOSError\u001b[0m: No file or directory found at plant_disease_prediction_model_2.keras"
     ]
    }
   ],
   "source": [
    "import os\n",
    "import random\n",
    "import numpy as np\n",
    "import json\n",
    "from PIL import Image\n",
    "from tensorflow.keras.models import load_model\n",
    "import tensorflow as tf\n",
    "\n",
    "# Function to load and preprocess the image\n",
    "@tf.function  # Optional: This ensures efficient re-use and reduces retracing.\n",
    "def load_and_preprocess_image(image_path, target_size=(224,224)):\n",
    "    img = Image.open(image_path).convert('RGB')  # Ensure all images are RGB\n",
    "    img = img.resize(target_size)\n",
    "    img_array = np.array(img) / 255.0  # Scale pixel values to [0, 1]\n",
    "    img_array = np.expand_dims(img_array, axis=0)  # Add batch dimension\n",
    "    return img_array\n",
    "\n",
    "# Function to predict the class of an image\n",
    "def predict_image_class(model, image_path, class_indices):\n",
    "    preprocessed_img = load_and_preprocess_image(image_path)\n",
    "    predictions = model.predict(preprocessed_img)\n",
    "    predicted_class_index = np.argmax(predictions, axis=1)[0]\n",
    "    \n",
    "    # Accessing the predicted class name\n",
    "    try:\n",
    "        predicted_class_name = class_indices[str(predicted_class_index)]\n",
    "    except KeyError:\n",
    "        print(f\"KeyError: {predicted_class_index} not found in class indices.\")\n",
    "        print(\"Available class indices:\", list(class_indices.keys()))\n",
    "        return None, predictions[0]\n",
    "\n",
    "    confidence_scores = predictions[0]\n",
    "    return predicted_class_name, confidence_scores\n",
    "\n",
    "# Load the model and class indices\n",
    "model = load_model('plant_disease_prediction_model_3.keras')\n",
    "with open('class_indices.json') as f:\n",
    "    class_indices = json.load(f)\n",
    "\n",
    "# Create test_images directory if it doesn't exist\n",
    "base_dir = 'plantvillage_dataset'\n",
    "test_images_dir = os.path.join(base_dir, 'test_images')\n",
    "os.makedirs(test_images_dir, exist_ok=True)\n",
    "\n",
    "# Define the path to the color folder\n",
    "color_folder_path = os.path.join(base_dir, 'color')\n",
    "\n",
    "# List all class folders in the color dataset\n",
    "class_folders = [f for f in os.listdir(color_folder_path) if os.path.isdir(os.path.join(color_folder_path, f))]\n",
    "\n",
    "# Randomly pick an image from a random class folder within the color directory\n",
    "selected_class_folder = random.choice(class_folders)\n",
    "selected_folder_path = os.path.join(color_folder_path, selected_class_folder)\n",
    "image_files = [f for f in os.listdir(selected_folder_path) if f.endswith('.JPG')]\n",
    "\n",
    "if image_files:\n",
    "    selected_image = random.choice(image_files)\n",
    "    selected_image_path = os.path.join(selected_folder_path, selected_image)\n",
    "\n",
    "    # Generate a random name for the new image\n",
    "    random_name = f\"test_image_{random.randint(1000, 9999)}.JPG\"\n",
    "    new_image_path = os.path.join(test_images_dir, random_name)\n",
    "\n",
    "    # Copy the selected image to the test_images directory with the new name\n",
    "    Image.open(selected_image_path).save(new_image_path)\n",
    "\n",
    "    # Predict the class of the new image\n",
    "    predicted_class_name, confidence_scores = predict_image_class(model, new_image_path, class_indices)\n",
    "\n",
    "    # Output the result if prediction was successful\n",
    "    if predicted_class_name:\n",
    "        print(\"Predicted Class Name:\", predicted_class_name)\n",
    "        \n",
    "        # Checking the guessed output\n",
    "        actual_class_name = selected_class_folder  # The actual class from which the image was picked\n",
    "        if predicted_class_name == actual_class_name:\n",
    "            print(\"The predicted class is correct!\")\n",
    "        else:\n",
    "            print(f\"The predicted class is incorrect. Actual class: {actual_class_name}\")\n",
    "\n",
    "        # Sort confidence scores from highest to lowest\n",
    "        sorted_confidence_scores = sorted(zip(class_indices.values(), confidence_scores), key=lambda x: x[1], reverse=True)\n",
    "\n",
    "        # Display sorted confidence scores\n",
    "        print(\"Confidence Scores (from highest to lowest):\")\n",
    "        for class_name, score in sorted_confidence_scores:\n",
    "            print(f\"{class_name}: {score:.6f}\")  # Adjust the precision as needed\n",
    "else:\n",
    "    print(\"No images found in the selected class folder.\")\n"
   ]
  },
  {
   "cell_type": "code",
   "execution_count": 12,
   "id": "b4f42233-92c1-4b7b-b3a6-5dc26b516340",
   "metadata": {},
   "outputs": [],
   "source": [
    "from numba import cuda\n",
    "\n",
    "# Select your GPU\n",
    "cuda.select_device(0)  # Change the index if you have multiple GPUs\n",
    "# Close the GPU context to free up memory\n",
    "cuda.close()\n"
   ]
  }
 ],
 "metadata": {
  "kernelspec": {
   "display_name": "Python 3 (ipykernel)",
   "language": "python",
   "name": "python3"
  },
  "language_info": {
   "codemirror_mode": {
    "name": "ipython",
    "version": 3
   },
   "file_extension": ".py",
   "mimetype": "text/x-python",
   "name": "python",
   "nbconvert_exporter": "python",
   "pygments_lexer": "ipython3",
   "version": "3.9.18"
  }
 },
 "nbformat": 4,
 "nbformat_minor": 5
}
